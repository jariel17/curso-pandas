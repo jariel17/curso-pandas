{
 "cells": [
  {
   "cell_type": "code",
   "execution_count": 1,
   "metadata": {},
   "outputs": [],
   "source": [
    "import pandas as pd\n",
    "import numpy as np\n",
    "import os"
   ]
  },
  {
   "cell_type": "code",
   "execution_count": 2,
   "metadata": {},
   "outputs": [],
   "source": [
    "if '__file__' in globals():\n",
    "    current_dir = os.path.dirname(__file__)\n",
    "else:\n",
    "    current_dir = os.getcwd()"
   ]
  },
  {
   "cell_type": "code",
   "execution_count": 4,
   "metadata": {},
   "outputs": [],
   "source": [
    "bestsellers = os.path.join(current_dir, \"datasets\", \"bestsellers.csv\")\n",
    "pokemon= os.path.join(current_dir, \"datasets\", \"Pokemon_full.csv\")"
   ]
  },
  {
   "cell_type": "code",
   "execution_count": 5,
   "metadata": {},
   "outputs": [],
   "source": [
    "df_books = pd.read_csv(bestsellers)\n",
    "df_pokemon = pd.read_csv(pokemon)"
   ]
  },
  {
   "cell_type": "code",
   "execution_count": 6,
   "metadata": {},
   "outputs": [],
   "source": [
    "def two_times(value):\n",
    "    return value * 2"
   ]
  },
  {
   "cell_type": "code",
   "execution_count": 8,
   "metadata": {},
   "outputs": [],
   "source": [
    "df_books['Rating_2'] = df_books['User Rating'].apply(two_times)"
   ]
  },
  {
   "cell_type": "code",
   "execution_count": 9,
   "metadata": {},
   "outputs": [
    {
     "data": {
      "text/plain": [
       "0      14.1\n",
       "1      13.8\n",
       "2      14.1\n",
       "3      14.1\n",
       "4      14.4\n",
       "       ... \n",
       "545    14.7\n",
       "546    14.1\n",
       "547    14.1\n",
       "548    14.1\n",
       "549    14.1\n",
       "Name: User Rating, Length: 550, dtype: float64"
      ]
     },
     "execution_count": 9,
     "metadata": {},
     "output_type": "execute_result"
    }
   ],
   "source": [
    "df_books['User Rating'].apply(lambda x : x * 3)"
   ]
  },
  {
   "cell_type": "code",
   "execution_count": 12,
   "metadata": {},
   "outputs": [],
   "source": [
    "df_books['Rating 2'] = df_books.apply(lambda x : x['User Rating']* 2 if x['Genre'] == 'Fiction' else x['User Rating'], axis=1)"
   ]
  }
 ],
 "metadata": {
  "kernelspec": {
   "display_name": "env",
   "language": "python",
   "name": "python3"
  },
  "language_info": {
   "codemirror_mode": {
    "name": "ipython",
    "version": 3
   },
   "file_extension": ".py",
   "mimetype": "text/x-python",
   "name": "python",
   "nbconvert_exporter": "python",
   "pygments_lexer": "ipython3",
   "version": "3.10.6"
  },
  "orig_nbformat": 4
 },
 "nbformat": 4,
 "nbformat_minor": 2
}
