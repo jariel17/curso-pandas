{
 "cells": [
  {
   "cell_type": "code",
   "execution_count": 1,
   "metadata": {},
   "outputs": [],
   "source": [
    "import pandas as pd\n",
    "import os"
   ]
  },
  {
   "cell_type": "code",
   "execution_count": 2,
   "metadata": {},
   "outputs": [],
   "source": [
    "if '__file__' in globals():\n",
    "    current_dir = os.path.dirname(__file__)\n",
    "else:\n",
    "    current_dir = os.getcwd()"
   ]
  },
  {
   "cell_type": "code",
   "execution_count": 3,
   "metadata": {},
   "outputs": [],
   "source": [
    "bestsellers = os.path.join(current_dir, \"datasets\", \"bestsellers.csv\")\n",
    "pokemon= os.path.join(current_dir, \"datasets\", \"Pokemon_full.csv\")"
   ]
  },
  {
   "cell_type": "code",
   "execution_count": 4,
   "metadata": {},
   "outputs": [],
   "source": [
    "df_books = pd.read_csv(bestsellers)\n",
    "df_pokemon = pd.read_csv(pokemon)"
   ]
  },
  {
   "cell_type": "code",
   "execution_count": 5,
   "metadata": {},
   "outputs": [
    {
     "name": "stdout",
     "output_type": "stream",
     "text": [
      "<class 'pandas.core.frame.DataFrame'>\n",
      "RangeIndex: 550 entries, 0 to 549\n",
      "Data columns (total 7 columns):\n",
      " #   Column       Non-Null Count  Dtype  \n",
      "---  ------       --------------  -----  \n",
      " 0   Name         550 non-null    object \n",
      " 1   Author       550 non-null    object \n",
      " 2   User Rating  550 non-null    float64\n",
      " 3   Reviews      550 non-null    int64  \n",
      " 4   Price        550 non-null    int64  \n",
      " 5   Year         550 non-null    int64  \n",
      " 6   Genre        550 non-null    object \n",
      "dtypes: float64(1), int64(3), object(3)\n",
      "memory usage: 30.2+ KB\n"
     ]
    }
   ],
   "source": [
    "df_books.info()"
   ]
  },
  {
   "cell_type": "code",
   "execution_count": 6,
   "metadata": {},
   "outputs": [
    {
     "name": "stdout",
     "output_type": "stream",
     "text": [
      "<class 'pandas.core.frame.DataFrame'>\n",
      "RangeIndex: 890 entries, 0 to 889\n",
      "Data columns (total 12 columns):\n",
      " #   Column          Non-Null Count  Dtype \n",
      "---  ------          --------------  ----- \n",
      " 0   name            890 non-null    object\n",
      " 1   pokedex id      890 non-null    int64 \n",
      " 2   height          890 non-null    int64 \n",
      " 3   weight          890 non-null    int64 \n",
      " 4   type            890 non-null    object\n",
      " 5   secundary type  439 non-null    object\n",
      " 6   hp              890 non-null    int64 \n",
      " 7   attack          890 non-null    int64 \n",
      " 8   defense         890 non-null    int64 \n",
      " 9   sp atk          890 non-null    int64 \n",
      " 10  sp def          890 non-null    int64 \n",
      " 11  speed           890 non-null    int64 \n",
      "dtypes: int64(9), object(3)\n",
      "memory usage: 83.6+ KB\n"
     ]
    }
   ],
   "source": [
    "df_pokemon.info()"
   ]
  },
  {
   "cell_type": "code",
   "execution_count": 7,
   "metadata": {},
   "outputs": [
    {
     "data": {
      "text/html": [
       "<div>\n",
       "<style scoped>\n",
       "    .dataframe tbody tr th:only-of-type {\n",
       "        vertical-align: middle;\n",
       "    }\n",
       "\n",
       "    .dataframe tbody tr th {\n",
       "        vertical-align: top;\n",
       "    }\n",
       "\n",
       "    .dataframe thead th {\n",
       "        text-align: right;\n",
       "    }\n",
       "</style>\n",
       "<table border=\"1\" class=\"dataframe\">\n",
       "  <thead>\n",
       "    <tr style=\"text-align: right;\">\n",
       "      <th></th>\n",
       "      <th>pokedex id</th>\n",
       "      <th>height</th>\n",
       "      <th>weight</th>\n",
       "      <th>hp</th>\n",
       "      <th>attack</th>\n",
       "      <th>defense</th>\n",
       "      <th>sp atk</th>\n",
       "      <th>sp def</th>\n",
       "      <th>speed</th>\n",
       "    </tr>\n",
       "  </thead>\n",
       "  <tbody>\n",
       "    <tr>\n",
       "      <th>count</th>\n",
       "      <td>890.000000</td>\n",
       "      <td>890.000000</td>\n",
       "      <td>890.000000</td>\n",
       "      <td>890.000000</td>\n",
       "      <td>890.000000</td>\n",
       "      <td>890.000000</td>\n",
       "      <td>890.000000</td>\n",
       "      <td>890.000000</td>\n",
       "      <td>890.000000</td>\n",
       "    </tr>\n",
       "    <tr>\n",
       "      <th>mean</th>\n",
       "      <td>445.500000</td>\n",
       "      <td>11.821348</td>\n",
       "      <td>629.897753</td>\n",
       "      <td>68.702247</td>\n",
       "      <td>76.300000</td>\n",
       "      <td>71.819101</td>\n",
       "      <td>69.548315</td>\n",
       "      <td>69.858427</td>\n",
       "      <td>65.650562</td>\n",
       "    </tr>\n",
       "    <tr>\n",
       "      <th>std</th>\n",
       "      <td>257.065167</td>\n",
       "      <td>12.380479</td>\n",
       "      <td>1172.367175</td>\n",
       "      <td>25.844566</td>\n",
       "      <td>29.592069</td>\n",
       "      <td>29.543887</td>\n",
       "      <td>29.351989</td>\n",
       "      <td>27.056001</td>\n",
       "      <td>28.060803</td>\n",
       "    </tr>\n",
       "    <tr>\n",
       "      <th>min</th>\n",
       "      <td>1.000000</td>\n",
       "      <td>1.000000</td>\n",
       "      <td>1.000000</td>\n",
       "      <td>1.000000</td>\n",
       "      <td>5.000000</td>\n",
       "      <td>5.000000</td>\n",
       "      <td>10.000000</td>\n",
       "      <td>20.000000</td>\n",
       "      <td>5.000000</td>\n",
       "    </tr>\n",
       "    <tr>\n",
       "      <th>25%</th>\n",
       "      <td>223.250000</td>\n",
       "      <td>5.000000</td>\n",
       "      <td>85.000000</td>\n",
       "      <td>50.000000</td>\n",
       "      <td>55.000000</td>\n",
       "      <td>50.000000</td>\n",
       "      <td>45.250000</td>\n",
       "      <td>50.000000</td>\n",
       "      <td>45.000000</td>\n",
       "    </tr>\n",
       "    <tr>\n",
       "      <th>50%</th>\n",
       "      <td>445.500000</td>\n",
       "      <td>10.000000</td>\n",
       "      <td>268.000000</td>\n",
       "      <td>65.000000</td>\n",
       "      <td>75.000000</td>\n",
       "      <td>67.000000</td>\n",
       "      <td>65.000000</td>\n",
       "      <td>65.000000</td>\n",
       "      <td>65.000000</td>\n",
       "    </tr>\n",
       "    <tr>\n",
       "      <th>75%</th>\n",
       "      <td>667.750000</td>\n",
       "      <td>15.000000</td>\n",
       "      <td>630.000000</td>\n",
       "      <td>80.000000</td>\n",
       "      <td>95.000000</td>\n",
       "      <td>90.000000</td>\n",
       "      <td>90.000000</td>\n",
       "      <td>85.000000</td>\n",
       "      <td>85.000000</td>\n",
       "    </tr>\n",
       "    <tr>\n",
       "      <th>max</th>\n",
       "      <td>890.000000</td>\n",
       "      <td>200.000000</td>\n",
       "      <td>9999.000000</td>\n",
       "      <td>255.000000</td>\n",
       "      <td>181.000000</td>\n",
       "      <td>230.000000</td>\n",
       "      <td>173.000000</td>\n",
       "      <td>230.000000</td>\n",
       "      <td>160.000000</td>\n",
       "    </tr>\n",
       "  </tbody>\n",
       "</table>\n",
       "</div>"
      ],
      "text/plain": [
       "       pokedex id      height       weight          hp      attack   \n",
       "count  890.000000  890.000000   890.000000  890.000000  890.000000  \\\n",
       "mean   445.500000   11.821348   629.897753   68.702247   76.300000   \n",
       "std    257.065167   12.380479  1172.367175   25.844566   29.592069   \n",
       "min      1.000000    1.000000     1.000000    1.000000    5.000000   \n",
       "25%    223.250000    5.000000    85.000000   50.000000   55.000000   \n",
       "50%    445.500000   10.000000   268.000000   65.000000   75.000000   \n",
       "75%    667.750000   15.000000   630.000000   80.000000   95.000000   \n",
       "max    890.000000  200.000000  9999.000000  255.000000  181.000000   \n",
       "\n",
       "          defense      sp atk      sp def       speed  \n",
       "count  890.000000  890.000000  890.000000  890.000000  \n",
       "mean    71.819101   69.548315   69.858427   65.650562  \n",
       "std     29.543887   29.351989   27.056001   28.060803  \n",
       "min      5.000000   10.000000   20.000000    5.000000  \n",
       "25%     50.000000   45.250000   50.000000   45.000000  \n",
       "50%     67.000000   65.000000   65.000000   65.000000  \n",
       "75%     90.000000   90.000000   85.000000   85.000000  \n",
       "max    230.000000  173.000000  230.000000  160.000000  "
      ]
     },
     "execution_count": 7,
     "metadata": {},
     "output_type": "execute_result"
    }
   ],
   "source": [
    "df_pokemon.describe()"
   ]
  },
  {
   "cell_type": "code",
   "execution_count": 8,
   "metadata": {},
   "outputs": [
    {
     "data": {
      "text/html": [
       "<div>\n",
       "<style scoped>\n",
       "    .dataframe tbody tr th:only-of-type {\n",
       "        vertical-align: middle;\n",
       "    }\n",
       "\n",
       "    .dataframe tbody tr th {\n",
       "        vertical-align: top;\n",
       "    }\n",
       "\n",
       "    .dataframe thead th {\n",
       "        text-align: right;\n",
       "    }\n",
       "</style>\n",
       "<table border=\"1\" class=\"dataframe\">\n",
       "  <thead>\n",
       "    <tr style=\"text-align: right;\">\n",
       "      <th></th>\n",
       "      <th>name</th>\n",
       "      <th>pokedex id</th>\n",
       "      <th>height</th>\n",
       "      <th>weight</th>\n",
       "      <th>type</th>\n",
       "      <th>secundary type</th>\n",
       "      <th>hp</th>\n",
       "      <th>attack</th>\n",
       "      <th>defense</th>\n",
       "      <th>sp atk</th>\n",
       "      <th>sp def</th>\n",
       "      <th>speed</th>\n",
       "    </tr>\n",
       "  </thead>\n",
       "  <tbody>\n",
       "    <tr>\n",
       "      <th>885</th>\n",
       "      <td>drakloak</td>\n",
       "      <td>886</td>\n",
       "      <td>14</td>\n",
       "      <td>110</td>\n",
       "      <td>dragon</td>\n",
       "      <td>ghost</td>\n",
       "      <td>68</td>\n",
       "      <td>80</td>\n",
       "      <td>50</td>\n",
       "      <td>60</td>\n",
       "      <td>50</td>\n",
       "      <td>102</td>\n",
       "    </tr>\n",
       "    <tr>\n",
       "      <th>886</th>\n",
       "      <td>dragapult</td>\n",
       "      <td>887</td>\n",
       "      <td>30</td>\n",
       "      <td>500</td>\n",
       "      <td>dragon</td>\n",
       "      <td>ghost</td>\n",
       "      <td>88</td>\n",
       "      <td>120</td>\n",
       "      <td>75</td>\n",
       "      <td>100</td>\n",
       "      <td>75</td>\n",
       "      <td>142</td>\n",
       "    </tr>\n",
       "    <tr>\n",
       "      <th>887</th>\n",
       "      <td>zacian</td>\n",
       "      <td>888</td>\n",
       "      <td>28</td>\n",
       "      <td>1100</td>\n",
       "      <td>fairy</td>\n",
       "      <td>NaN</td>\n",
       "      <td>92</td>\n",
       "      <td>130</td>\n",
       "      <td>115</td>\n",
       "      <td>80</td>\n",
       "      <td>115</td>\n",
       "      <td>138</td>\n",
       "    </tr>\n",
       "    <tr>\n",
       "      <th>888</th>\n",
       "      <td>zamazenta</td>\n",
       "      <td>889</td>\n",
       "      <td>29</td>\n",
       "      <td>2100</td>\n",
       "      <td>fighting</td>\n",
       "      <td>NaN</td>\n",
       "      <td>92</td>\n",
       "      <td>130</td>\n",
       "      <td>115</td>\n",
       "      <td>80</td>\n",
       "      <td>115</td>\n",
       "      <td>138</td>\n",
       "    </tr>\n",
       "    <tr>\n",
       "      <th>889</th>\n",
       "      <td>eternatus</td>\n",
       "      <td>890</td>\n",
       "      <td>200</td>\n",
       "      <td>9500</td>\n",
       "      <td>poison</td>\n",
       "      <td>dragon</td>\n",
       "      <td>140</td>\n",
       "      <td>85</td>\n",
       "      <td>95</td>\n",
       "      <td>145</td>\n",
       "      <td>95</td>\n",
       "      <td>130</td>\n",
       "    </tr>\n",
       "  </tbody>\n",
       "</table>\n",
       "</div>"
      ],
      "text/plain": [
       "          name  pokedex id  height  weight      type secundary type   hp   \n",
       "885   drakloak         886      14     110    dragon          ghost   68  \\\n",
       "886  dragapult         887      30     500    dragon          ghost   88   \n",
       "887     zacian         888      28    1100     fairy            NaN   92   \n",
       "888  zamazenta         889      29    2100  fighting            NaN   92   \n",
       "889  eternatus         890     200    9500    poison         dragon  140   \n",
       "\n",
       "     attack  defense  sp atk  sp def  speed  \n",
       "885      80       50      60      50    102  \n",
       "886     120       75     100      75    142  \n",
       "887     130      115      80     115    138  \n",
       "888     130      115      80     115    138  \n",
       "889      85       95     145      95    130  "
      ]
     },
     "execution_count": 8,
     "metadata": {},
     "output_type": "execute_result"
    }
   ],
   "source": [
    "df_pokemon.tail()"
   ]
  },
  {
   "cell_type": "code",
   "execution_count": 9,
   "metadata": {},
   "outputs": [
    {
     "data": {
      "text/plain": [
       "Index               128\n",
       "name              57616\n",
       "pokedex id         7120\n",
       "height             7120\n",
       "weight             7120\n",
       "type              55409\n",
       "secundary type    41915\n",
       "hp                 7120\n",
       "attack             7120\n",
       "defense            7120\n",
       "sp atk             7120\n",
       "sp def             7120\n",
       "speed              7120\n",
       "dtype: int64"
      ]
     },
     "execution_count": 9,
     "metadata": {},
     "output_type": "execute_result"
    }
   ],
   "source": [
    "df_pokemon.memory_usage(deep=True)"
   ]
  },
  {
   "cell_type": "code",
   "execution_count": 11,
   "metadata": {},
   "outputs": [
    {
     "data": {
      "text/plain": [
       "type\n",
       "water       123\n",
       "normal      109\n",
       "grass        86\n",
       "bug          75\n",
       "fire         58\n",
       "psychic      57\n",
       "rock         50\n",
       "electric     48\n",
       "poison       35\n",
       "ground       35\n",
       "dark         35\n",
       "fighting     34\n",
       "ghost        30\n",
       "dragon       30\n",
       "steel        30\n",
       "ice          27\n",
       "fairy        21\n",
       "flying        7\n",
       "Name: count, dtype: int64"
      ]
     },
     "execution_count": 11,
     "metadata": {},
     "output_type": "execute_result"
    }
   ],
   "source": [
    "df_pokemon['type'].value_counts()"
   ]
  },
  {
   "cell_type": "code",
   "execution_count": 12,
   "metadata": {},
   "outputs": [
    {
     "data": {
      "text/plain": [
       "secundary type\n",
       "flying      95\n",
       "poison      34\n",
       "fairy       33\n",
       "ground      32\n",
       "psychic     32\n",
       "dragon      25\n",
       "fighting    25\n",
       "steel       24\n",
       "ghost       20\n",
       "grass       19\n",
       "water       18\n",
       "dark        18\n",
       "rock        15\n",
       "fire        13\n",
       "ice         13\n",
       "bug          9\n",
       "electric     8\n",
       "normal       6\n",
       "Name: count, dtype: int64"
      ]
     },
     "execution_count": 12,
     "metadata": {},
     "output_type": "execute_result"
    }
   ],
   "source": [
    "df_pokemon['secundary type'].value_counts()"
   ]
  }
 ],
 "metadata": {
  "kernelspec": {
   "display_name": "env",
   "language": "python",
   "name": "python3"
  },
  "language_info": {
   "codemirror_mode": {
    "name": "ipython",
    "version": 3
   },
   "file_extension": ".py",
   "mimetype": "text/x-python",
   "name": "python",
   "nbconvert_exporter": "python",
   "pygments_lexer": "ipython3",
   "version": "3.10.6"
  },
  "orig_nbformat": 4
 },
 "nbformat": 4,
 "nbformat_minor": 2
}
